{
 "cells": [
  {
   "cell_type": "code",
   "execution_count": null,
   "id": "edd925f4",
   "metadata": {},
   "outputs": [],
   "source": [
    "from sklearn.metrics import r2_score\n",
    "from sklearn.model_selection import train_test_split\n",
    "import pandas as pd\n",
    "import matplotlib.pyplot as plt\n",
    "df=pd.read_csv(r\"Salary_Data.csv\")\n",
    "x=list(df[\"YearsExperience\"])\n",
    "y=list(df[\"Salary\"])\n",
    "df\n"
   ]
  },
  {
   "cell_type": "code",
   "execution_count": null,
   "id": "15595dd1",
   "metadata": {},
   "outputs": [],
   "source": [
    "def LinearRegressor(x,y):\n",
    "sumX=sum(x)\n",
    "sumY=sum(y)\n",
    "xMean=sumX/len(x)\n",
    "yMean=sumY/len(y)\n",
    "x_minus_xmean=[val-xMean for val in x]\n",
    "y_minus_ymean=[val-yMean for val in y]\n",
    "zip_li=zip(x_minus_xmean,y_minus_ymean)\n",
    "val=[x*y for x,y in zip_li]\n",
    "b1=sum(val)/sum([x**2 for x in x_minus_xmean])\n",
    "b0=yMean-b1*xMean\n",
    "return b0,b1\n",
    "x_train, x_test, y_train, y_test = train_test_split(x, y, test_size=1/2,shuffle=True)\n",
    "b=LinearRegressor(x_train,y_train)\n",
    "y_pred=[b[0]+b[1]*val for val in x_test]\n",
    "r2_score(y_test,y_pred)\n",
    "plt.plot(x_test,y_pred)\n",
    "plt.scatter(x_test, y_test,c=\"k\")\n",
    "--------------------------------"
   ]
  },
  {
   "cell_type": "code",
   "execution_count": null,
   "id": "625454d3",
   "metadata": {},
   "outputs": [],
   "source": [
    "import pandas as pd\n",
    "data=pd.read_csv(\"Iris.csv\")\n",
    "X =data.iloc[:,[1,2,3,4]].values\n",
    "y =data.iloc[:,5].values\n",
    "from sklearn.model_selection import train_test_split\n",
    "X_train, X_test, y_train, y_test = train_test_split(X, y, test_size=0.2, random_state=1)\n",
    "from sklearn.naive_bayes import GaussianNB\n",
    "gnb = GaussianNB()\n",
    "gnb.fit(X_train, y_train)\n",
    "y_pred=gnb.predict(X_test)\n",
    "from sklearn import metrics\n",
    "print(\"Classification Accuracy:\", metrics.accuracy_score(y_test, y_pred)*100)\n",
    "cm=metrics.confusion_matrix(y_test,y_pred)\n",
    "print(cm)\n",
    "import seaborn as sn\n",
    "from matplotlib import pyplot as plt\n",
    "plt.figure(figsize=(5,4))\n",
    "sn.heatmap(cm,annot=True)\n",
    "plt.xlabel('Predicted value')\n",
    "plt.ylabel('Actual value')\n",
    "plt.show()"
   ]
  }
 ],
 "metadata": {
  "kernelspec": {
   "display_name": "Python 3 (ipykernel)",
   "language": "python",
   "name": "python3"
  },
  "language_info": {
   "codemirror_mode": {
    "name": "ipython",
    "version": 3
   },
   "file_extension": ".py",
   "mimetype": "text/x-python",
   "name": "python",
   "nbconvert_exporter": "python",
   "pygments_lexer": "ipython3",
   "version": "3.11.2"
  }
 },
 "nbformat": 4,
 "nbformat_minor": 5
}
